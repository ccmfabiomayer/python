{
  "nbformat": 4,
  "nbformat_minor": 0,
  "metadata": {
    "colab": {
      "provenance": [],
      "authorship_tag": "ABX9TyM7DdEYue9V2Tfh+SSbJyTH",
      "include_colab_link": true
    },
    "kernelspec": {
      "name": "python3",
      "display_name": "Python 3"
    },
    "language_info": {
      "name": "python"
    }
  },
  "cells": [
    {
      "cell_type": "markdown",
      "metadata": {
        "id": "view-in-github",
        "colab_type": "text"
      },
      "source": [
        "<a href=\"https://colab.research.google.com/github/ccmfabiomayer/python/blob/main/python.ipynb\" target=\"_parent\"><img src=\"https://colab.research.google.com/assets/colab-badge.svg\" alt=\"Open In Colab\"/></a>"
      ]
    },
    {
      "cell_type": "code",
      "execution_count": null,
      "metadata": {
        "id": "8ZA-y8VczFm-"
      },
      "outputs": [],
      "source": []
    },
    {
      "cell_type": "markdown",
      "source": [
        "##**Aula 01** 🍻 🍆 🔥"
      ],
      "metadata": {
        "id": "iIJtRm7Uzd4S"
      }
    },
    {
      "cell_type": "code",
      "source": [
        "ano = \"IV\"\n",
        "print(ano, \"competição de programação dá Start\")"
      ],
      "metadata": {
        "colab": {
          "base_uri": "https://localhost:8080/"
        },
        "id": "MlcMs3okz50_",
        "outputId": "266cab9f-4c38-4b21-a619-526d585b5ec0"
      },
      "execution_count": null,
      "outputs": [
        {
          "output_type": "stream",
          "name": "stdout",
          "text": [
            "IV competição de programação dá Start\n"
          ]
        }
      ]
    },
    {
      "cell_type": "markdown",
      "source": [
        "##**AULA 02** ⚓ ⚔ 🔨"
      ],
      "metadata": {
        "id": "w7B1eooX2R7G"
      }
    },
    {
      "cell_type": "code",
      "source": [
        "livro_ficcao = 8\n",
        "livro_n_ficcao = 10\n",
        "livro_infantil = 6\n",
        "pontos_rodrigo = livro_ficcao + livro_n_ficcao + livro_infantil\n",
        "pontos_ana  = 2 * livro_ficcao  + 5 * livro_infantil\n",
        "pontos_totais = pontos_rodrigo + pontos_ana\n",
        "print(f\"Os pontos totais do Rodrigo são {pontos_rodrigo}\")\n",
        "print(f\"Os pontos totais de Ana são {pontos_ana}\")\n",
        "print(f\"Os pontos totais são {pontos_totais}\")"
      ],
      "metadata": {
        "colab": {
          "base_uri": "https://localhost:8080/"
        },
        "id": "asBMZqlW2X3v",
        "outputId": "84f7124f-c328-460a-dd1c-a6826e737a75"
      },
      "execution_count": null,
      "outputs": [
        {
          "output_type": "stream",
          "name": "stdout",
          "text": [
            "Os pontos totais do Rodrigo são 24\n",
            "Os pontos totais de Ana são 46\n",
            "Os pontos totais são 70\n"
          ]
        }
      ]
    },
    {
      "cell_type": "markdown",
      "source": [
        "##**AULA 03** ✅ ⚡ 🛠"
      ],
      "metadata": {
        "id": "buurqHTt6Jkb"
      }
    },
    {
      "cell_type": "code",
      "source": [
        "total_de_figurinhas = int(input(\"Digite o total de figurinhas: \"))\n",
        "numero_de_amigos = int(input(\"Digite o número de amigos: \"))\n",
        "figurinhas_amigo = total_de_figurinhas // (numero_de_amigos + 2)\n",
        "figurinhas_Anderson = 2 * figurinhas_amigo\n",
        "figurinhas_extras = int(input(\"Digite o numero de figurinhas extras: \"))\n",
        "figurinhas_extras = figurinhas_extras // (numero_de_amigos + 2)\n",
        "figurinhas_Anderson2 = figurinhas_extras * 2\n",
        "\n",
        "print(f\"Anderson recebeu {figurinhas_Anderson} figurinhas\")\n",
        "print(f\"Anderson recebeu {figurinhas_Anderson2} figurinhas extras\")"
      ],
      "metadata": {
        "colab": {
          "base_uri": "https://localhost:8080/"
        },
        "id": "shdNT2vW6XGd",
        "outputId": "cf8ac7ed-acf8-4d45-8ac6-d80a2cbde610"
      },
      "execution_count": null,
      "outputs": [
        {
          "output_type": "stream",
          "name": "stdout",
          "text": [
            "Digite o total de figurinhas: 200\n",
            "Digite o número de amigos: 5\n",
            "Digite o numero de figurinhas extras: 20\n",
            "Anderson recebeu 56 figurinhas\n",
            "Anderson recebeu 4 figurinhas extras\n"
          ]
        }
      ]
    },
    {
      "cell_type": "markdown",
      "source": [
        "#**AULA 04** ⛴  ⛽  ✈\n",
        "\n",
        "#**DIA DE PROVA** ⚒"
      ],
      "metadata": {
        "id": "sxpsMoka3ys8"
      }
    },
    {
      "cell_type": "code",
      "source": [
        "P = int(input(\"Digite a posição da porta P (0 ou 1): \"))\n",
        "R = int(input(\"Digite a posição da porta R (0 ou 1): \"))\n",
        "if P == 0:\n",
        "    print(\"C\")\n",
        "elif R == 1:\n",
        "    print(\"A\")\n",
        "else:\n",
        "    print(\"B\")\n",
        "\n"
      ],
      "metadata": {
        "id": "SRxXRpid7V3A",
        "colab": {
          "base_uri": "https://localhost:8080/"
        },
        "outputId": "f438989c-9856-48a6-c175-465ae0087d19"
      },
      "execution_count": null,
      "outputs": [
        {
          "output_type": "stream",
          "name": "stdout",
          "text": [
            "Digite a posição da porta P (0 ou 1): 1\n",
            "Digite a posição da porta R (0 ou 1): 0\n",
            "B\n"
          ]
        }
      ]
    },
    {
      "cell_type": "markdown",
      "source": [
        "##**AULA 05 - CÁLCULO DO IMC** ❤ ✔ ❌\n",
        "\n"
      ],
      "metadata": {
        "id": "cC81qSUr7dvn"
      }
    },
    {
      "cell_type": "code",
      "source": [
        "peso = float(input(\"Digite seu peso (em kg): \"))\n",
        "altura = float(input(\"Digite sua altura (em metros): \"))\n",
        "imc = peso / (altura ** 2)\n",
        "print(f\"\\nSeu IMC é: {imc:.2f}\")\n",
        "if imc < 18.5:\n",
        "    print(\"Você está abaixo do peso.\")\n",
        "elif 18.5 <= imc < 25:\n",
        "    print(\"Você está no peso ideal.\")\n",
        "elif 25 <= imc < 30:\n",
        "    print(\"Você está com sobrepeso.\")\n",
        "else:\n",
        "    print(\"Você está acima do peso.\")"
      ],
      "metadata": {
        "id": "ctPsJG519L7Z"
      },
      "execution_count": null,
      "outputs": []
    }
  ]
}